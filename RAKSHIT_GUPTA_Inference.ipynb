{
 "cells": [
  {
   "cell_type": "code",
   "execution_count": 1,
   "metadata": {},
   "outputs": [],
   "source": [
    "%reload_ext autoreload\n",
    "%autoreload 2 "
   ]
  },
  {
   "cell_type": "code",
   "execution_count": 2,
   "metadata": {},
   "outputs": [
    {
     "name": "stderr",
     "output_type": "stream",
     "text": [
      "[nltk_data] Downloading package punkt to\n",
      "[nltk_data]     /Users/rakshitgupta/nltk_data...\n",
      "[nltk_data]   Package punkt is already up-to-date!\n",
      "[nltk_data] Downloading package stopwords to\n",
      "[nltk_data]     /Users/rakshitgupta/nltk_data...\n",
      "[nltk_data]   Package stopwords is already up-to-date!\n",
      "[nltk_data] Downloading package wordnet to\n",
      "[nltk_data]     /Users/rakshitgupta/nltk_data...\n",
      "[nltk_data]   Package wordnet is already up-to-date!\n",
      "[nltk_data] Downloading package omw-1.4 to\n",
      "[nltk_data]     /Users/rakshitgupta/nltk_data...\n",
      "[nltk_data]   Package omw-1.4 is already up-to-date!\n"
     ]
    }
   ],
   "source": [
    "import pandas as pd\n",
    "from preprocessing.text_preprocessing import preprocess_data\n",
    "from utils.model_utils import load_model\n",
    "from sklearn.metrics import classification_report, accuracy_score\n"
   ]
  },
  {
   "cell_type": "code",
   "execution_count": 3,
   "metadata": {},
   "outputs": [],
   "source": [
    "def load_and_preprocess(path):\n",
    "    df = pd.read_csv(path, encoding='ISO-8859-1')\n",
    "    columns_to_remove = ['textID', 'Time of Tweet', 'selected_text', 'Age of User', 'Country', 'Population -2020', 'Land Area (Km²)', 'Density (P/Km²)']\n",
    "    df_processed = preprocess_data(df, text_column_name='text', columns_to_remove=columns_to_remove)\n",
    "    return df_processed"
   ]
  },
  {
   "cell_type": "code",
   "execution_count": 4,
   "metadata": {},
   "outputs": [],
   "source": [
    "\n",
    "def perform_inference(model_path, x_test):\n",
    "    # Load the saved model\n",
    "    model = load_model(model_path)\n",
    "    \n",
    "    # Perform prediction\n",
    "    predictions = model.predict(x_test)\n",
    "    return predictions"
   ]
  },
  {
   "cell_type": "code",
   "execution_count": 5,
   "metadata": {},
   "outputs": [],
   "source": [
    "# Load test data\n",
    "test_path = 'data/test.csv'  \n",
    "df_test = load_and_preprocess(test_path)\n",
    "x_test = df_test['text']  \n",
    "y_test = df_test['sentiment'] "
   ]
  },
  {
   "cell_type": "markdown",
   "metadata": {},
   "source": [
    "## MultinomialNB"
   ]
  },
  {
   "cell_type": "code",
   "execution_count": 10,
   "metadata": {},
   "outputs": [],
   "source": [
    "model_name = 'MultinomialNB'\n",
    "model_path ='models/multinomialNB_classifier.pkl'"
   ]
  },
  {
   "cell_type": "code",
   "execution_count": 11,
   "metadata": {},
   "outputs": [
    {
     "name": "stdout",
     "output_type": "stream",
     "text": [
      "Performing inference with MultinomialNB\n",
      "              precision    recall  f1-score   support\n",
      "\n",
      "         0.0       0.89      0.21      0.35      1001\n",
      "         1.0       0.50      0.94      0.65      1430\n",
      "         2.0       0.86      0.48      0.61      1103\n",
      "\n",
      "    accuracy                           0.59      3534\n",
      "   macro avg       0.75      0.54      0.54      3534\n",
      "weighted avg       0.72      0.59      0.55      3534\n",
      "\n",
      "Accuracy: 0.588568194680249\n"
     ]
    }
   ],
   "source": [
    "print(f\"Performing inference with {model_name}\")\n",
    "predictions = perform_inference(model_path, x_test)\n",
    "print(classification_report(y_test, predictions))\n",
    "print(f\"Accuracy: {accuracy_score(y_test, predictions)}\")\n"
   ]
  },
  {
   "cell_type": "markdown",
   "metadata": {},
   "source": [
    "## Random Forest"
   ]
  },
  {
   "cell_type": "code",
   "execution_count": 12,
   "metadata": {},
   "outputs": [],
   "source": [
    "model_name = 'Random Forest'\n",
    "model_path = 'models/randomForest_classifier.pkl'"
   ]
  },
  {
   "cell_type": "code",
   "execution_count": 13,
   "metadata": {},
   "outputs": [
    {
     "name": "stdout",
     "output_type": "stream",
     "text": [
      "Performing inference with Random Forest\n",
      "              precision    recall  f1-score   support\n",
      "\n",
      "         0.0       0.90      0.62      0.73      1001\n",
      "         1.0       0.67      0.91      0.77      1430\n",
      "         2.0       0.89      0.73      0.81      1103\n",
      "\n",
      "    accuracy                           0.77      3534\n",
      "   macro avg       0.82      0.75      0.77      3534\n",
      "weighted avg       0.80      0.77      0.77      3534\n",
      "\n",
      "Accuracy: 0.7705149971703452\n"
     ]
    }
   ],
   "source": [
    "print(f\"Performing inference with {model_name}\")\n",
    "predictions = perform_inference(model_path, x_test)\n",
    "print(classification_report(y_test, predictions))\n",
    "print(f\"Accuracy: {accuracy_score(y_test, predictions)}\")"
   ]
  },
  {
   "cell_type": "markdown",
   "metadata": {},
   "source": [
    "## Logistic Regression"
   ]
  },
  {
   "cell_type": "code",
   "execution_count": 16,
   "metadata": {},
   "outputs": [],
   "source": [
    "model_name = 'Logistic Regression'\n",
    "model_path = 'models/logisticRegression_classifier.pkl'"
   ]
  },
  {
   "cell_type": "code",
   "execution_count": 17,
   "metadata": {},
   "outputs": [
    {
     "name": "stdout",
     "output_type": "stream",
     "text": [
      "Performing inference with Logistic Regression\n",
      "              precision    recall  f1-score   support\n",
      "\n",
      "         0.0       0.79      0.64      0.71      1001\n",
      "         1.0       0.67      0.82      0.74      1430\n",
      "         2.0       0.83      0.74      0.78      1103\n",
      "\n",
      "    accuracy                           0.74      3534\n",
      "   macro avg       0.77      0.73      0.74      3534\n",
      "weighted avg       0.76      0.74      0.74      3534\n",
      "\n",
      "Accuracy: 0.743350311262026\n"
     ]
    }
   ],
   "source": [
    "print(f\"Performing inference with {model_name}\")\n",
    "predictions = perform_inference(model_path, x_test)\n",
    "print(classification_report(y_test, predictions))\n",
    "print(f\"Accuracy: {accuracy_score(y_test, predictions)}\")"
   ]
  }
 ],
 "metadata": {
  "kernelspec": {
   "display_name": "classificationassignment",
   "language": "python",
   "name": "classificationassignment"
  },
  "language_info": {
   "codemirror_mode": {
    "name": "ipython",
    "version": 3
   },
   "file_extension": ".py",
   "mimetype": "text/x-python",
   "name": "python",
   "nbconvert_exporter": "python",
   "pygments_lexer": "ipython3",
   "version": "3.9.4"
  }
 },
 "nbformat": 4,
 "nbformat_minor": 2
}
